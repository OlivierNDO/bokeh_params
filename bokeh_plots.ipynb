{
 "cells": [
  {
   "cell_type": "code",
   "execution_count": 1,
   "metadata": {
    "collapsed": true
   },
   "outputs": [],
   "source": [
    "# Packages\n",
    "#######################################################\n",
    "from bokeh.io import output_file, show\n",
    "from bokeh.plotting import figure\n",
    "from bokeh.models import ColumnDataSource\n",
    "import numpy as np, pandas as pd"
   ]
  },
  {
   "cell_type": "code",
   "execution_count": 3,
   "metadata": {},
   "outputs": [],
   "source": [
    "plot = figure(plot_width = 400, tools = 'pan, box_zoom')\n",
    "plot.circle([1,2,3,4,5], [6,7,8,9,10])\n",
    "output_file('circle.html')\n",
    "show(plot)"
   ]
  },
  {
   "cell_type": "code",
   "execution_count": null,
   "metadata": {
    "collapsed": true
   },
   "outputs": [],
   "source": [
    "# Create the figure: p\n",
    "p = figure(x_axis_label='fertility (children per woman)', y_axis_label='female_literacy (% population)')\n",
    "\n",
    "# Add a blue circle glyph to the figure p\n",
    "p.circle(fertility_latinamerica, female_literacy_latinamerica, color = 'blue', size = 10, alpha = 0.8)\n",
    "\n",
    "# Add a red circle glyph to the figure p\n",
    "p.circle(fertility_africa, female_literacy_africa, color = 'red', size = 10, alpha = 0.8)\n",
    "\n",
    "\n",
    "# Specify the name of the file\n",
    "output_file('fert_lit_separate_colors.html')\n",
    "\n",
    "# Display the plot\n",
    "show(p)"
   ]
  },
  {
   "cell_type": "code",
   "execution_count": 22,
   "metadata": {},
   "outputs": [],
   "source": [
    "df = pd.DataFrame({'x': range(0,100,10),\n",
    "                  'y': range(1000, 2000, 100)})\n",
    "\n",
    "patch_x = [[40,70,70,40]]\n",
    "patch_y = [[1200,1200,1400,1400]]\n",
    "\n",
    "plot = figure(x_axis_label = 'x axis label',\n",
    "              y_axis_label = 'y axis label',\n",
    "              title = 'plot title')\n",
    "\n",
    "plot.circle(x = df['x'], y = df['y'], color = 'darkblue', alpha = 0.3)\n",
    "plot.line(x = df['x'], y = df['y'],\n",
    "          color = 'darkblue')\n",
    "plot.patches(xs = patch_x, ys = patch_y, fill_color = 'green', line_color = 'green', alpha = 0.1)\n",
    "show(plot)"
   ]
  },
  {
   "cell_type": "code",
   "execution_count": null,
   "metadata": {
    "collapsed": true
   },
   "outputs": [],
   "source": [
    "# Create a list of az_lons, co_lons, nm_lons and ut_lons: x\n",
    "x = [az_lons, co_lons, nm_lons, ut_lons]\n",
    "\n",
    "# Create a list of az_lats, co_lats, nm_lats and ut_lats: y\n",
    "y = [az_lats, co_lats, nm_lats, ut_lats]\n",
    "\n",
    "# Add patches to figure p with line_color=white for x and y\n",
    "p.patches(xs = x, ys = y, line_color = 'white')\n",
    "\n",
    "# Specify the name of the output file and show the result\n",
    "output_file('four_corners.html')\n",
    "show(p)"
   ]
  },
  {
   "cell_type": "code",
   "execution_count": 23,
   "metadata": {
    "collapsed": true
   },
   "outputs": [],
   "source": [
    "# Create ColumnDataSource Directly\n",
    "dat = ColumnDataSource(data = {'x': [1,2,3,4,5], 'y':[9,8,7,6,5]})\n",
    "\n",
    "# Create from Pandas Dataframe\n",
    "df = {'x': [1,2,3,4,5], 'y':[9,8,7,6,5]}\n",
    "dat = ColumnDataSource(df)"
   ]
  }
 ],
 "metadata": {
  "kernelspec": {
   "display_name": "Python 3",
   "language": "python",
   "name": "python3"
  },
  "language_info": {
   "codemirror_mode": {
    "name": "ipython",
    "version": 3
   },
   "file_extension": ".py",
   "mimetype": "text/x-python",
   "name": "python",
   "nbconvert_exporter": "python",
   "pygments_lexer": "ipython3",
   "version": "3.6.3"
  }
 },
 "nbformat": 4,
 "nbformat_minor": 2
}
